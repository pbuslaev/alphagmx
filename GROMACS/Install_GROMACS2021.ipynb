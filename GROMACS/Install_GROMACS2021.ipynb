{
  "nbformat": 4,
  "nbformat_minor": 0,
  "metadata": {
    "colab": {
      "provenance": []
    },
    "kernelspec": {
      "name": "python3",
      "display_name": "Python 3"
    },
    "language_info": {
      "name": "python"
    }
  },
  "cells": [
    {
      "cell_type": "code",
      "execution_count": null,
      "metadata": {
        "id": "flkvjJXOV_aN"
      },
      "outputs": [],
      "source": [
        "#@title Get GROMACS\n",
        "!wget https://ftp.gromacs.org/gromacs/gromacs-2021.5.tar.gz"
      ]
    },
    {
      "cell_type": "code",
      "source": [
        "#@title Install dependencies\n",
        "!pip install cmake --upgrade\n",
        "!pip install --upgrade pip scikit-build setuptools\n",
        "!cmake --version"
      ],
      "metadata": {
        "id": "lMJumIWfWFBi"
      },
      "execution_count": null,
      "outputs": []
    },
    {
      "cell_type": "code",
      "source": [
        "#@title Install GROMACS\n",
        "#Extracting and Installing GROMACS 2021.5 onto a user-defined folder\n",
        "%%bash\n",
        "#First, we extract the downloaded folder containing GROMACS-2021.5\n",
        "tar xfz gromacs-2021.5.tar.gz\n",
        "echo \"GROMACS extraction completed\"\n",
        "#Then, we create a \"build\" folder inside the extracted folder\n",
        "cd gromacs-2021.5\n",
        "rm -r build\n",
        "mkdir build\n",
        "pwd\n",
        "#Next, we setup our GROMACS 2021.5 installation options, including GPU and a user-defined folder\n",
        "cd build\n",
        "pwd\n",
        "cmake .. -DGMX_BUILD_OWN_FFTW=ON -DGMX_GPU=CUDA -DCMAKE_INSTALL_PREFIX=/content/gromacs-2021\n",
        "echo \"GROMACS set up completed\"\n",
        "make -j4\n",
        "echo \"GROMACS building completed\"\n",
        "make check\n",
        "echo \"GROMACS testing completed\"\n",
        "make install\n",
        "echo \"GROMACS installation completed. Please check if any errors occurred during installation\""
      ],
      "metadata": {
        "id": "z1uM7KTrWKHy"
      },
      "execution_count": null,
      "outputs": []
    },
    {
      "cell_type": "code",
      "source": [
        "#@title Mount Google Drive\n",
        "#First, we will mount your Google Drive to be able to transfer files\n",
        "#You will be requested to authorize this Google Drive mounting\n",
        "#By entering an authorization code into an input box and then pressing Enter\n",
        "from google.colab import drive\n",
        "drive.mount('/content/gdrive')"
      ],
      "metadata": {
        "id": "vMlN9oStWSqL"
      },
      "execution_count": null,
      "outputs": []
    },
    {
      "cell_type": "code",
      "source": [
        "#@title Create GROMACS back up\n",
        "#Copying your compiled GROMACS to your Google Drive\n",
        "#We will create and/or use the GROMACS folder to create a folder for compiled programs\n",
        "import os\n",
        "import shutil\n",
        "from pathlib import Path \n",
        "GROMACS = Path(\"/content/gdrive/My Drive/GROMACS/\")\n",
        "if os.path.exists(GROMACS):\n",
        "  print(\"GROMACS already exists\")\n",
        "if not os.path.exists(GROMACS):\n",
        "  os.mkdir(GROMACS)\n",
        "  print(\"GROMACS did not exists and was succesfully created\")\n",
        "#Then, we will copy the compiled GROMACS to this folder\n",
        "shutil.copytree(str('/content/gromacs-2021'), str(GROMACS/'gromacs-2021'))\n",
        "\n",
        "print(\"GROMACS successfully backed up!\")\n",
        "\n",
        "# Use backed up GROMACS it has to be copied back to content\n",
        "#import shutil\n",
        "#shutil.copytree(str('/content/gdrive/MyDrive/GROMACS/gromacs-2021'), str('/content/gromacs-2021'))"
      ],
      "metadata": {
        "id": "lqIEePq-WV0Z"
      },
      "execution_count": null,
      "outputs": []
    }
  ]
}