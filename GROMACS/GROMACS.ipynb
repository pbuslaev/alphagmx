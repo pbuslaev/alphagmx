{
  "nbformat": 4,
  "nbformat_minor": 0,
  "metadata": {
    "colab": {
      "provenance": []
    },
    "kernelspec": {
      "name": "python3",
      "display_name": "Python 3"
    },
    "language_info": {
      "name": "python"
    },
    "accelerator": "GPU",
    "gpuClass": "standard"
  },
  "cells": [
    {
      "cell_type": "markdown",
      "source": [
        "## Download GROMACS"
      ],
      "metadata": {
        "id": "DTdIs9xeSpaa"
      }
    },
    {
      "cell_type": "code",
      "execution_count": 1,
      "metadata": {
        "colab": {
          "base_uri": "https://localhost:8080/"
        },
        "id": "m3AnBBAYO3Uz",
        "outputId": "33bb7393-a1c4-49b8-c845-ae2c0ef79b94"
      },
      "outputs": [
        {
          "output_type": "stream",
          "name": "stdout",
          "text": [
            "Mounted at /content/gdrive\n"
          ]
        }
      ],
      "source": [
        "from google.colab import drive\n",
        "drive.mount('/content/gdrive')"
      ]
    },
    {
      "cell_type": "code",
      "source": [
        "#@title Select GROMACS version\n",
        "import os\n",
        "#@markdown Select an option from dropdown menu\n",
        "gmx_version = '2021' #@param [\"2021\",\"2022\"]\n",
        "#@markdown - Currently versions 2021(2021.5) and 2022(2022.3) are availablle\n",
        "gdrive_path = str('/content/gdrive/MyDrive/GROMACS/GROMACS/gromacs-'+gmx_version)\n",
        "local_path = str('/content/gromacs-'+gmx_version)\n",
        "os.environ['GMX_LOCAL_PATH']=local_path"
      ],
      "metadata": {
        "id": "4sByDa_F6wf8"
      },
      "execution_count": 17,
      "outputs": []
    },
    {
      "cell_type": "code",
      "source": [
        "#@title Copy GROMACS binaries\n",
        "import shutil\n",
        "shutil.copytree(gdrive_path, local_path)"
      ],
      "metadata": {
        "colab": {
          "base_uri": "https://localhost:8080/",
          "height": 36
        },
        "id": "5sqIYA4lVSD4",
        "outputId": "c9b86d17-66ad-470c-deb3-8084f4cd8922"
      },
      "execution_count": 18,
      "outputs": [
        {
          "output_type": "execute_result",
          "data": {
            "text/plain": [
              "'/content/gromacs-2021'"
            ],
            "application/vnd.google.colaboratory.intrinsic+json": {
              "type": "string"
            }
          },
          "metadata": {},
          "execution_count": 18
        }
      ]
    },
    {
      "cell_type": "code",
      "source": [
        "#@markdown Update gcc\n",
        "!sudo echo 'deb [arch=amd64] http://archive.ubuntu.com/ubuntu focal main universe' >> /etc/apt/sources.list\n",
        "!sudo apt update\n",
        "!sudo apt install -y gcc-9 g++-9\n",
        "!ln -snf /usr/bin/gcc-9 /usr/bin/gcc\n",
        "!ln -snf /usr/bin/g++-9 /usr/bin/g++"
      ],
      "metadata": {
        "colab": {
          "base_uri": "https://localhost:8080/"
        },
        "id": "WNX9j_p8ZnlH",
        "outputId": "cb532264-630b-427f-c4c6-bb9eefd1ba04"
      },
      "execution_count": 13,
      "outputs": [
        {
          "output_type": "stream",
          "name": "stdout",
          "text": [
            "\u001b[33m\r0% [Working]\u001b[0m\r            \rHit:1 https://cloud.r-project.org/bin/linux/ubuntu bionic-cran40/ InRelease\n",
            "\u001b[33m\r0% [Connecting to archive.ubuntu.com (185.125.190.36)] [Connecting to security.\u001b[0m\u001b[33m\r0% [1 InRelease gpgv 3,626 B] [Connecting to archive.ubuntu.com (185.125.190.36\u001b[0m\r                                                                               \rIgn:2 https://developer.download.nvidia.com/compute/machine-learning/repos/ubuntu1804/x86_64  InRelease\n",
            "\u001b[33m\r0% [1 InRelease gpgv 3,626 B] [Connecting to archive.ubuntu.com (185.125.190.36\u001b[0m\r                                                                               \rHit:3 https://developer.download.nvidia.com/compute/cuda/repos/ubuntu1804/x86_64  InRelease\n",
            "\u001b[33m\r0% [1 InRelease gpgv 3,626 B] [Connecting to archive.ubuntu.com (185.125.190.36\u001b[0m\r                                                                               \rHit:4 https://developer.download.nvidia.com/compute/machine-learning/repos/ubuntu1804/x86_64  Release\n",
            "\u001b[33m\r0% [1 InRelease gpgv 3,626 B] [Connecting to archive.ubuntu.com (185.125.190.36\u001b[0m\u001b[33m\r                                                                               \r0% [Waiting for headers] [Waiting for headers] [Waiting for headers]\u001b[0m\u001b[33m\r0% [3 InRelease gpgv 1,581 B] [Waiting for headers] [Waiting for headers] [Wait\u001b[0m\u001b[33m\r                                                                               \r0% [Waiting for headers] [Waiting for headers] [Waiting for headers]\u001b[0m\u001b[33m\r0% [Release.gpg gpgv 564 B] [Waiting for headers] [Waiting for headers] [Waitin\u001b[0m\u001b[33m\r                                                                               \r0% [Waiting for headers] [Waiting for headers] [Waiting for headers]\u001b[0m\r                                                                    \rHit:6 http://archive.ubuntu.com/ubuntu bionic InRelease\n",
            "\u001b[33m\r                                                                    \r0% [Waiting for headers] [Waiting for headers]\u001b[0m\u001b[33m\r0% [6 InRelease gpgv 242 kB] [Waiting for headers] [Waiting for headers] [Waiti\u001b[0m\r                                                                               \rHit:7 http://security.ubuntu.com/ubuntu bionic-security InRelease\n",
            "Hit:8 http://ppa.launchpad.net/c2d4u.team/c2d4u4.0+/ubuntu bionic InRelease\n",
            "Hit:9 http://archive.ubuntu.com/ubuntu bionic-updates InRelease\n",
            "Hit:10 http://archive.ubuntu.com/ubuntu bionic-backports InRelease\n",
            "Hit:11 http://ppa.launchpad.net/cran/libgit2/ubuntu bionic InRelease\n",
            "Hit:12 http://archive.ubuntu.com/ubuntu focal InRelease\n",
            "Hit:13 http://ppa.launchpad.net/deadsnakes/ppa/ubuntu bionic InRelease\n",
            "Hit:14 http://ppa.launchpad.net/graphics-drivers/ppa/ubuntu bionic InRelease\n",
            "Reading package lists... Done\n",
            "Building dependency tree       \n",
            "Reading state information... Done\n",
            "796 packages can be upgraded. Run 'apt list --upgradable' to see them.\n",
            "W: Target Packages (main/binary-amd64/Packages) is configured multiple times in /etc/apt/sources.list:53 and /etc/apt/sources.list:54\n",
            "W: Target Packages (main/binary-all/Packages) is configured multiple times in /etc/apt/sources.list:53 and /etc/apt/sources.list:54\n",
            "W: Target Packages (universe/binary-amd64/Packages) is configured multiple times in /etc/apt/sources.list:53 and /etc/apt/sources.list:54\n",
            "W: Target Packages (universe/binary-all/Packages) is configured multiple times in /etc/apt/sources.list:53 and /etc/apt/sources.list:54\n",
            "W: Target Packages (main/binary-amd64/Packages) is configured multiple times in /etc/apt/sources.list:53 and /etc/apt/sources.list:54\n",
            "W: Target Packages (main/binary-all/Packages) is configured multiple times in /etc/apt/sources.list:53 and /etc/apt/sources.list:54\n",
            "W: Target Packages (universe/binary-amd64/Packages) is configured multiple times in /etc/apt/sources.list:53 and /etc/apt/sources.list:54\n",
            "W: Target Packages (universe/binary-all/Packages) is configured multiple times in /etc/apt/sources.list:53 and /etc/apt/sources.list:54\n",
            "Reading package lists... Done\n",
            "Building dependency tree       \n",
            "Reading state information... Done\n",
            "g++-9 is already the newest version (9.3.0-10ubuntu2).\n",
            "gcc-9 is already the newest version (9.3.0-10ubuntu2).\n",
            "The following package was automatically installed and is no longer required:\n",
            "  libnvidia-common-460\n",
            "Use 'sudo apt autoremove' to remove it.\n",
            "0 upgraded, 0 newly installed, 0 to remove and 796 not upgraded.\n",
            "W: Target Packages (main/binary-amd64/Packages) is configured multiple times in /etc/apt/sources.list:53 and /etc/apt/sources.list:54\n",
            "W: Target Packages (main/binary-all/Packages) is configured multiple times in /etc/apt/sources.list:53 and /etc/apt/sources.list:54\n",
            "W: Target Packages (universe/binary-amd64/Packages) is configured multiple times in /etc/apt/sources.list:53 and /etc/apt/sources.list:54\n",
            "W: Target Packages (universe/binary-all/Packages) is configured multiple times in /etc/apt/sources.list:53 and /etc/apt/sources.list:54\n"
          ]
        }
      ]
    },
    {
      "cell_type": "code",
      "source": [
        "%%bash\n",
        "source $GMX_LOCAL_PATH/bin/GMXRC\n",
        "gmx grompp -h"
      ],
      "metadata": {
        "colab": {
          "base_uri": "https://localhost:8080/",
          "height": 378
        },
        "id": "0lhkHjz0TGBx",
        "outputId": "4f60e9a8-619e-4353-efde-63f8270b299c"
      },
      "execution_count": 9,
      "outputs": [
        {
          "output_type": "stream",
          "name": "stderr",
          "text": [
            "bash: line 2:  2053 Illegal instruction     (core dumped) gmx grompp -h\n"
          ]
        },
        {
          "output_type": "error",
          "ename": "CalledProcessError",
          "evalue": "ignored",
          "traceback": [
            "\u001b[0;31m---------------------------------------------------------------------------\u001b[0m",
            "\u001b[0;31mCalledProcessError\u001b[0m                        Traceback (most recent call last)",
            "\u001b[0;32m<ipython-input-9-8d1cd0b05c2b>\u001b[0m in \u001b[0;36m<module>\u001b[0;34m\u001b[0m\n\u001b[0;32m----> 1\u001b[0;31m \u001b[0mget_ipython\u001b[0m\u001b[0;34m(\u001b[0m\u001b[0;34m)\u001b[0m\u001b[0;34m.\u001b[0m\u001b[0mrun_cell_magic\u001b[0m\u001b[0;34m(\u001b[0m\u001b[0;34m'bash'\u001b[0m\u001b[0;34m,\u001b[0m \u001b[0;34m''\u001b[0m\u001b[0;34m,\u001b[0m \u001b[0;34m'source $GMX_LOCAL_PATH/bin/GMXRC\\ngmx grompp -h\\n'\u001b[0m\u001b[0;34m)\u001b[0m\u001b[0;34m\u001b[0m\u001b[0;34m\u001b[0m\u001b[0m\n\u001b[0m",
            "\u001b[0;32m/usr/local/lib/python3.7/dist-packages/IPython/core/interactiveshell.py\u001b[0m in \u001b[0;36mrun_cell_magic\u001b[0;34m(self, magic_name, line, cell)\u001b[0m\n\u001b[1;32m   2357\u001b[0m             \u001b[0;32mwith\u001b[0m \u001b[0mself\u001b[0m\u001b[0;34m.\u001b[0m\u001b[0mbuiltin_trap\u001b[0m\u001b[0;34m:\u001b[0m\u001b[0;34m\u001b[0m\u001b[0;34m\u001b[0m\u001b[0m\n\u001b[1;32m   2358\u001b[0m                 \u001b[0margs\u001b[0m \u001b[0;34m=\u001b[0m \u001b[0;34m(\u001b[0m\u001b[0mmagic_arg_s\u001b[0m\u001b[0;34m,\u001b[0m \u001b[0mcell\u001b[0m\u001b[0;34m)\u001b[0m\u001b[0;34m\u001b[0m\u001b[0;34m\u001b[0m\u001b[0m\n\u001b[0;32m-> 2359\u001b[0;31m                 \u001b[0mresult\u001b[0m \u001b[0;34m=\u001b[0m \u001b[0mfn\u001b[0m\u001b[0;34m(\u001b[0m\u001b[0;34m*\u001b[0m\u001b[0margs\u001b[0m\u001b[0;34m,\u001b[0m \u001b[0;34m**\u001b[0m\u001b[0mkwargs\u001b[0m\u001b[0;34m)\u001b[0m\u001b[0;34m\u001b[0m\u001b[0;34m\u001b[0m\u001b[0m\n\u001b[0m\u001b[1;32m   2360\u001b[0m             \u001b[0;32mreturn\u001b[0m \u001b[0mresult\u001b[0m\u001b[0;34m\u001b[0m\u001b[0;34m\u001b[0m\u001b[0m\n\u001b[1;32m   2361\u001b[0m \u001b[0;34m\u001b[0m\u001b[0m\n",
            "\u001b[0;32m/usr/local/lib/python3.7/dist-packages/IPython/core/magics/script.py\u001b[0m in \u001b[0;36mnamed_script_magic\u001b[0;34m(line, cell)\u001b[0m\n\u001b[1;32m    140\u001b[0m             \u001b[0;32melse\u001b[0m\u001b[0;34m:\u001b[0m\u001b[0;34m\u001b[0m\u001b[0;34m\u001b[0m\u001b[0m\n\u001b[1;32m    141\u001b[0m                 \u001b[0mline\u001b[0m \u001b[0;34m=\u001b[0m \u001b[0mscript\u001b[0m\u001b[0;34m\u001b[0m\u001b[0;34m\u001b[0m\u001b[0m\n\u001b[0;32m--> 142\u001b[0;31m             \u001b[0;32mreturn\u001b[0m \u001b[0mself\u001b[0m\u001b[0;34m.\u001b[0m\u001b[0mshebang\u001b[0m\u001b[0;34m(\u001b[0m\u001b[0mline\u001b[0m\u001b[0;34m,\u001b[0m \u001b[0mcell\u001b[0m\u001b[0;34m)\u001b[0m\u001b[0;34m\u001b[0m\u001b[0;34m\u001b[0m\u001b[0m\n\u001b[0m\u001b[1;32m    143\u001b[0m \u001b[0;34m\u001b[0m\u001b[0m\n\u001b[1;32m    144\u001b[0m         \u001b[0;31m# write a basic docstring:\u001b[0m\u001b[0;34m\u001b[0m\u001b[0;34m\u001b[0m\u001b[0;34m\u001b[0m\u001b[0m\n",
            "\u001b[0;32m<decorator-gen-103>\u001b[0m in \u001b[0;36mshebang\u001b[0;34m(self, line, cell)\u001b[0m\n",
            "\u001b[0;32m/usr/local/lib/python3.7/dist-packages/IPython/core/magic.py\u001b[0m in \u001b[0;36m<lambda>\u001b[0;34m(f, *a, **k)\u001b[0m\n\u001b[1;32m    185\u001b[0m     \u001b[0;31m# but it's overkill for just that one bit of state.\u001b[0m\u001b[0;34m\u001b[0m\u001b[0;34m\u001b[0m\u001b[0;34m\u001b[0m\u001b[0m\n\u001b[1;32m    186\u001b[0m     \u001b[0;32mdef\u001b[0m \u001b[0mmagic_deco\u001b[0m\u001b[0;34m(\u001b[0m\u001b[0marg\u001b[0m\u001b[0;34m)\u001b[0m\u001b[0;34m:\u001b[0m\u001b[0;34m\u001b[0m\u001b[0;34m\u001b[0m\u001b[0m\n\u001b[0;32m--> 187\u001b[0;31m         \u001b[0mcall\u001b[0m \u001b[0;34m=\u001b[0m \u001b[0;32mlambda\u001b[0m \u001b[0mf\u001b[0m\u001b[0;34m,\u001b[0m \u001b[0;34m*\u001b[0m\u001b[0ma\u001b[0m\u001b[0;34m,\u001b[0m \u001b[0;34m**\u001b[0m\u001b[0mk\u001b[0m\u001b[0;34m:\u001b[0m \u001b[0mf\u001b[0m\u001b[0;34m(\u001b[0m\u001b[0;34m*\u001b[0m\u001b[0ma\u001b[0m\u001b[0;34m,\u001b[0m \u001b[0;34m**\u001b[0m\u001b[0mk\u001b[0m\u001b[0;34m)\u001b[0m\u001b[0;34m\u001b[0m\u001b[0;34m\u001b[0m\u001b[0m\n\u001b[0m\u001b[1;32m    188\u001b[0m \u001b[0;34m\u001b[0m\u001b[0m\n\u001b[1;32m    189\u001b[0m         \u001b[0;32mif\u001b[0m \u001b[0mcallable\u001b[0m\u001b[0;34m(\u001b[0m\u001b[0marg\u001b[0m\u001b[0;34m)\u001b[0m\u001b[0;34m:\u001b[0m\u001b[0;34m\u001b[0m\u001b[0;34m\u001b[0m\u001b[0m\n",
            "\u001b[0;32m/usr/local/lib/python3.7/dist-packages/IPython/core/magics/script.py\u001b[0m in \u001b[0;36mshebang\u001b[0;34m(self, line, cell)\u001b[0m\n\u001b[1;32m    243\u001b[0m             \u001b[0msys\u001b[0m\u001b[0;34m.\u001b[0m\u001b[0mstderr\u001b[0m\u001b[0;34m.\u001b[0m\u001b[0mflush\u001b[0m\u001b[0;34m(\u001b[0m\u001b[0;34m)\u001b[0m\u001b[0;34m\u001b[0m\u001b[0;34m\u001b[0m\u001b[0m\n\u001b[1;32m    244\u001b[0m         \u001b[0;32mif\u001b[0m \u001b[0margs\u001b[0m\u001b[0;34m.\u001b[0m\u001b[0mraise_error\u001b[0m \u001b[0;32mand\u001b[0m \u001b[0mp\u001b[0m\u001b[0;34m.\u001b[0m\u001b[0mreturncode\u001b[0m\u001b[0;34m!=\u001b[0m\u001b[0;36m0\u001b[0m\u001b[0;34m:\u001b[0m\u001b[0;34m\u001b[0m\u001b[0;34m\u001b[0m\u001b[0m\n\u001b[0;32m--> 245\u001b[0;31m             \u001b[0;32mraise\u001b[0m \u001b[0mCalledProcessError\u001b[0m\u001b[0;34m(\u001b[0m\u001b[0mp\u001b[0m\u001b[0;34m.\u001b[0m\u001b[0mreturncode\u001b[0m\u001b[0;34m,\u001b[0m \u001b[0mcell\u001b[0m\u001b[0;34m,\u001b[0m \u001b[0moutput\u001b[0m\u001b[0;34m=\u001b[0m\u001b[0mout\u001b[0m\u001b[0;34m,\u001b[0m \u001b[0mstderr\u001b[0m\u001b[0;34m=\u001b[0m\u001b[0merr\u001b[0m\u001b[0;34m)\u001b[0m\u001b[0;34m\u001b[0m\u001b[0;34m\u001b[0m\u001b[0m\n\u001b[0m\u001b[1;32m    246\u001b[0m \u001b[0;34m\u001b[0m\u001b[0m\n\u001b[1;32m    247\u001b[0m     \u001b[0;32mdef\u001b[0m \u001b[0m_run_script\u001b[0m\u001b[0;34m(\u001b[0m\u001b[0mself\u001b[0m\u001b[0;34m,\u001b[0m \u001b[0mp\u001b[0m\u001b[0;34m,\u001b[0m \u001b[0mcell\u001b[0m\u001b[0;34m,\u001b[0m \u001b[0mto_close\u001b[0m\u001b[0;34m)\u001b[0m\u001b[0;34m:\u001b[0m\u001b[0;34m\u001b[0m\u001b[0;34m\u001b[0m\u001b[0m\n",
            "\u001b[0;31mCalledProcessError\u001b[0m: Command 'b'source $GMX_LOCAL_PATH/bin/GMXRC\\ngmx grompp -h\\n'' returned non-zero exit status 132."
          ]
        }
      ]
    },
    {
      "cell_type": "code",
      "source": [
        "!echo $GMX_LOCAL_PATH"
      ],
      "metadata": {
        "colab": {
          "base_uri": "https://localhost:8080/"
        },
        "id": "Bp2ViTNrTHP0",
        "outputId": "978d9c6a-f323-407d-f956-0eb7cf23bcb4"
      },
      "execution_count": 10,
      "outputs": [
        {
          "output_type": "stream",
          "name": "stdout",
          "text": [
            "/content/gromacs-2022\n"
          ]
        }
      ]
    },
    {
      "cell_type": "code",
      "source": [
        "%%bash\n",
        "chmod -R 755 gromacs-2021\n",
        "source /content/gromacs-2021/bin/GMXRC\n",
        "gmx grompp -h"
      ],
      "metadata": {
        "colab": {
          "base_uri": "https://localhost:8080/"
        },
        "id": "7ihZqjaaaL9w",
        "outputId": "83bf056a-67a5-4fdf-f894-c5fa2042213f"
      },
      "execution_count": 19,
      "outputs": [
        {
          "output_type": "stream",
          "name": "stdout",
          "text": [
            "SYNOPSIS\n",
            "\n",
            "gmx grompp [-f [<.mdp>]] [-c [<.gro/.g96/...>]] [-r [<.gro/.g96/...>]]\n",
            "           [-rb [<.gro/.g96/...>]] [-n [<.ndx>]] [-p [<.top>]]\n",
            "           [-t [<.trr/.cpt/...>]] [-e [<.edr>]] [-ref [<.trr/.cpt/...>]]\n",
            "           [-po [<.mdp>]] [-pp [<.top>]] [-o [<.tpr>]] [-imd [<.gro>]]\n",
            "           [-[no]v] [-time <real>] [-[no]rmvsbds] [-maxwarn <int>]\n",
            "           [-[no]zero] [-[no]renum]\n",
            "\n",
            "DESCRIPTION\n",
            "\n",
            "gmx grompp (the gromacs preprocessor) reads a molecular topology file, checks\n",
            "the validity of the file, expands the topology from a molecular description to\n",
            "an atomic description. The topology file contains information about molecule\n",
            "types and the number of molecules, the preprocessor copies each molecule as\n",
            "needed. There is no limitation on the number of molecule types. Bonds and\n",
            "bond-angles can be converted into constraints, separately for hydrogens and\n",
            "heavy atoms. Then a coordinate file is read and velocities can be generated\n",
            "from a Maxwellian distribution if requested. gmx grompp also reads parameters\n",
            "for gmx mdrun (eg. number of MD steps, time step, cut-off), and others such as\n",
            "NEMD parameters, which are corrected so that the net acceleration is zero.\n",
            "Eventually a binary file is produced that can serve as the sole input file for\n",
            "the MD program.\n",
            "\n",
            "gmx grompp uses the atom names from the topology file. The atom names in the\n",
            "coordinate file (option -c) are only read to generate warnings when they do\n",
            "not match the atom names in the topology. Note that the atom names are\n",
            "irrelevant for the simulation as only the atom types are used for generating\n",
            "interaction parameters.\n",
            "\n",
            "gmx grompp uses a built-in preprocessor to resolve includes, macros, etc. The\n",
            "preprocessor supports the following keywords:\n",
            "\n",
            "    #ifdef VARIABLE\n",
            "    #ifndef VARIABLE\n",
            "    #else\n",
            "    #endif\n",
            "    #define VARIABLE\n",
            "    #undef VARIABLE\n",
            "    #include \"filename\"\n",
            "    #include <filename>\n",
            "\n",
            "The functioning of these statements in your topology may be modulated by using\n",
            "the following two flags in your .mdp file:\n",
            "\n",
            "    define = -DVARIABLE1 -DVARIABLE2\n",
            "    include = -I/home/john/doe\n",
            "\n",
            "For further information a C-programming textbook may help you out. Specifying\n",
            "the -pp flag will get the pre-processed topology file written out so that you\n",
            "can verify its contents.\n",
            "\n",
            "When using position restraints, a file with restraint coordinates must be\n",
            "supplied with -r (can be the same file as supplied for -c). For free energy\n",
            "calculations, separate reference coordinates for the B topology can be\n",
            "supplied with -rb, otherwise they will be equal to those of the A topology.\n",
            "\n",
            "Starting coordinates can be read from trajectory with -t. The last frame with\n",
            "coordinates and velocities will be read, unless the -time option is used. Only\n",
            "if this information is absent will the coordinates in the -c file be used.\n",
            "Note that these velocities will not be used when gen_vel = yes in your .mdp\n",
            "file. An energy file can be supplied with -e to read Nose-Hoover and/or\n",
            "Parrinello-Rahman coupling variables.\n",
            "\n",
            "gmx grompp can be used to restart simulations (preserving continuity) by\n",
            "supplying just a checkpoint file with -t. However, for simply changing the\n",
            "number of run steps to extend a run, using gmx convert-tpr is more convenient\n",
            "than gmx grompp. You then supply the old checkpoint file directly to gmx mdrun\n",
            "with -cpi. If you wish to change the ensemble or things like output frequency,\n",
            "then supplying the checkpoint file to gmx grompp with -t along with a new .mdp\n",
            "file with -f is the recommended procedure. Actually preserving the ensemble\n",
            "(if possible) still requires passing the checkpoint file to gmx mdrun -cpi.\n",
            "\n",
            "By default, all bonded interactions which have constant energy due to virtual\n",
            "site constructions will be removed. If this constant energy is not zero, this\n",
            "will result in a shift in the total energy. All bonded interactions can be\n",
            "kept by turning off -rmvsbds. Additionally, all constraints for distances\n",
            "which will be constant anyway because of virtual site constructions will be\n",
            "removed. If any constraints remain which involve virtual sites, a fatal error\n",
            "will result.\n",
            "\n",
            "To verify your run input file, please take note of all warnings on the screen,\n",
            "and correct where necessary. Do also look at the contents of the mdout.mdp\n",
            "file; this contains comment lines, as well as the input that gmx grompp has\n",
            "read. If in doubt, you can start gmx grompp with the -debug option which will\n",
            "give you more information in a file called grompp.log (along with real debug\n",
            "info). You can see the contents of the run input file with the gmx dump\n",
            "program. gmx check can be used to compare the contents of two run input files.\n",
            "\n",
            "The -maxwarn option can be used to override warnings printed by gmx grompp\n",
            "that otherwise halt output. In some cases, warnings are harmless, but usually\n",
            "they are not. The user is advised to carefully interpret the output messages\n",
            "before attempting to bypass them with this option.\n",
            "\n",
            "OPTIONS\n",
            "\n",
            "Options to specify input files:\n",
            "\n",
            " -f      [<.mdp>]           (grompp.mdp)\n",
            "           grompp input file with MD parameters\n",
            " -c      [<.gro/.g96/...>]  (conf.gro)\n",
            "           Structure file: gro g96 pdb brk ent esp tpr\n",
            " -r      [<.gro/.g96/...>]  (restraint.gro)  (Opt.)\n",
            "           Structure file: gro g96 pdb brk ent esp tpr\n",
            " -rb     [<.gro/.g96/...>]  (restraint.gro)  (Opt.)\n",
            "           Structure file: gro g96 pdb brk ent esp tpr\n",
            " -n      [<.ndx>]           (index.ndx)      (Opt.)\n",
            "           Index file\n",
            " -p      [<.top>]           (topol.top)\n",
            "           Topology file\n",
            " -t      [<.trr/.cpt/...>]  (traj.trr)       (Opt.)\n",
            "           Full precision trajectory: trr cpt tng\n",
            " -e      [<.edr>]           (ener.edr)       (Opt.)\n",
            "           Energy file\n",
            "\n",
            "Options to specify input/output files:\n",
            "\n",
            " -ref    [<.trr/.cpt/...>]  (rotref.trr)     (Opt.)\n",
            "           Full precision trajectory: trr cpt tng\n",
            "\n",
            "Options to specify output files:\n",
            "\n",
            " -po     [<.mdp>]           (mdout.mdp)\n",
            "           grompp input file with MD parameters\n",
            " -pp     [<.top>]           (processed.top)  (Opt.)\n",
            "           Topology file\n",
            " -o      [<.tpr>]           (topol.tpr)\n",
            "           Portable xdr run input file\n",
            " -imd    [<.gro>]           (imdgroup.gro)   (Opt.)\n",
            "           Coordinate file in Gromos-87 format\n",
            "\n",
            "Other options:\n",
            "\n",
            " -[no]v                     (no)\n",
            "           Be loud and noisy\n",
            " -time   <real>             (-1)\n",
            "           Take frame at or first after this time.\n",
            " -[no]rmvsbds               (yes)\n",
            "           Remove constant bonded interactions with virtual sites\n",
            " -maxwarn <int>             (0)\n",
            "           Number of allowed warnings during input processing. Not for normal\n",
            "           use and may generate unstable systems\n",
            " -[no]zero                  (no)\n",
            "           Set parameters for bonded interactions without defaults to zero\n",
            "           instead of generating an error\n",
            " -[no]renum                 (yes)\n",
            "           Renumber atomtypes and minimize number of atomtypes\n"
          ]
        },
        {
          "output_type": "stream",
          "name": "stderr",
          "text": [
            "                      :-) GROMACS - gmx grompp, 2021.5 (-:\n",
            "\n",
            "                            GROMACS is written by:\n",
            "     Andrey Alekseenko              Emile Apol              Rossen Apostolov     \n",
            "         Paul Bauer           Herman J.C. Berendsen           Par Bjelkmar       \n",
            "       Christian Blau           Viacheslav Bolnykh             Kevin Boyd        \n",
            "     Aldert van Buuren           Rudi van Drunen             Anton Feenstra      \n",
            "    Gilles Gouaillardet             Alan Gray               Gerrit Groenhof      \n",
            "       Anca Hamuraru            Vincent Hindriksen          M. Eric Irrgang      \n",
            "      Aleksei Iupinov           Christoph Junghans             Joe Jordan        \n",
            "    Dimitrios Karkoulis            Peter Kasson                Jiri Kraus        \n",
            "      Carsten Kutzner              Per Larsson              Justin A. Lemkul     \n",
            "       Viveca Lindahl            Magnus Lundborg             Erik Marklund       \n",
            "        Pascal Merz             Pieter Meulenhoff            Teemu Murtola       \n",
            "        Szilard Pall               Sander Pronk              Roland Schulz       \n",
            "       Michael Shirts            Alexey Shvetsov             Alfons Sijbers      \n",
            "       Peter Tieleman              Jon Vincent              Teemu Virolainen     \n",
            "     Christian Wennberg            Maarten Wolf              Artem Zhmurov       \n",
            "                           and the project leaders:\n",
            "        Mark Abraham, Berk Hess, Erik Lindahl, and David van der Spoel\n",
            "\n",
            "Copyright (c) 1991-2000, University of Groningen, The Netherlands.\n",
            "Copyright (c) 2001-2019, The GROMACS development team at\n",
            "Uppsala University, Stockholm University and\n",
            "the Royal Institute of Technology, Sweden.\n",
            "check out http://www.gromacs.org for more information.\n",
            "\n",
            "GROMACS is free software; you can redistribute it and/or modify it\n",
            "under the terms of the GNU Lesser General Public License\n",
            "as published by the Free Software Foundation; either version 2.1\n",
            "of the License, or (at your option) any later version.\n",
            "\n",
            "GROMACS:      gmx grompp, version 2021.5\n",
            "Executable:   /content/gromacs-2021/bin/gmx\n",
            "Data prefix:  /content/gromacs-2021\n",
            "Working dir:  /content\n",
            "Command line:\n",
            "  gmx grompp -h\n",
            "\n",
            "\n",
            "GROMACS reminds you: \"Everybody Wants to Be Naked and Famous\" (Tricky)\n",
            "\n"
          ]
        }
      ]
    },
    {
      "cell_type": "code",
      "source": [
        "rm -r gromacs-2022"
      ],
      "metadata": {
        "id": "fZk5OpGHaOub"
      },
      "execution_count": 12,
      "outputs": []
    },
    {
      "cell_type": "code",
      "source": [],
      "metadata": {
        "id": "dts4Dn7laXpk"
      },
      "execution_count": null,
      "outputs": []
    }
  ]
}